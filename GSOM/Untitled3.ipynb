{
 "cells": [
  {
   "cell_type": "code",
   "execution_count": null,
   "metadata": {
    "collapsed": false
   },
   "outputs": [
    {
     "name": "stdout",
     "output_type": "stream",
     "text": [
      "\r",
      " iteration 1"
     ]
    },
    {
     "name": "stderr",
     "output_type": "stream",
     "text": [
      "SelfOrganizingSwarm.py:33: FutureWarning: comparison to `None` will result in an elementwise object comparison in the future.\n",
      "  if np.all(self.G==self.P):\n",
      "SelfOrganizingSwarm.py:30: FutureWarning: comparison to `None` will result in an elementwise object comparison in the future.\n",
      "  if self.tri_change and (not np.random.binomial(1,self.ts*1.0 / (self.ts + self.fs) ) or self.G == None):#self.ts*1.0 / (self.ts + self.fs)<0.75:\n"
     ]
    }
   ],
   "source": [
    "import matplotlib.pyplot as plt\n",
    "import pandas as pd\n",
    "import numpy as np\n",
    "\n",
    "from SelfOrganizingSwarm import SelfOrganizingSwarm\n",
    "\n",
    "fi = pd.read_csv('../mnist_train.csv', header=None)\n",
    "test = pd.read_csv('../mnist_test.csv', header=None)\n",
    "dat =np.array(fi)[:, 1:]/255.0\n",
    "labels = np.array(fi)[:, 0]\n",
    "samples = 500\n",
    "x, y = SelfOrganizingSwarm(iterations=20, alpha=1, beta=0.1, delta=0.00).fit_transform(dat[:samples]).T\n",
    "plt.scatter(x, y, edgecolors='none',c='white')\n",
    "\n",
    "for i, j, t in zip(x,y, labels[:samples]):\n",
    "    plt.text(i, j, t, color = plt.cm.Set1(t/10.0), fontsize = 10, alpha = 0.5)\n",
    "\n",
    "plt.show()\n"
   ]
  },
  {
   "cell_type": "code",
   "execution_count": null,
   "metadata": {
    "collapsed": true
   },
   "outputs": [],
   "source": []
  }
 ],
 "metadata": {
  "kernelspec": {
   "display_name": "Python 2",
   "language": "python",
   "name": "python2"
  },
  "language_info": {
   "codemirror_mode": {
    "name": "ipython",
    "version": 2
   },
   "file_extension": ".py",
   "mimetype": "text/x-python",
   "name": "python",
   "nbconvert_exporter": "python",
   "pygments_lexer": "ipython2",
   "version": "2.7.11+"
  }
 },
 "nbformat": 4,
 "nbformat_minor": 0
}
