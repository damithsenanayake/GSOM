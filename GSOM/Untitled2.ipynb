{
 "cells": [
  {
   "cell_type": "code",
   "execution_count": 1,
   "metadata": {
    "collapsed": true
   },
   "outputs": [],
   "source": [
    "import numpy as np\n",
    "import matplotlib.pyplot as plt"
   ]
  },
  {
   "cell_type": "code",
   "execution_count": 88,
   "metadata": {
    "collapsed": false
   },
   "outputs": [],
   "source": [
    "\n",
    "def segment_distance(x, Y):\n",
    "    Yi = Y[:-1]\n",
    "    Yi_1 = Y[1:]\n",
    "    l_x = ((x - Yi)*(Yi_1 - Yi)).sum(axis=1)/((x-Yi)**2).sum(axis=1)\n",
    "    \n",
    "    print 'num',(((x - Yi)*(Yi_1 - Yi)).sum(axis=1))\n",
    "    print 'den', ((x-Yi)**2).sum(axis=1)\n",
    "    print l_x\n",
    "    \n",
    "    c_y = np.linalg.norm(Yi - Yi_1, axis=1)\n",
    "    \n",
    "    r_x = np.linalg.norm(x-Yi, axis = 1)**2 - (l_x**2)*((Yi-Yi_1)**2).sum(axis=1)\n",
    "    print r_x\n",
    "    print r_x[np.where(l_x>0)[0]]\n",
    "    print r_x[np.where(l_x<1)[0]]\n",
    "    print np.intersect1d(r_x[np.where(l_x>0)[0]],r_x[np.where(l_x<1)[0]])\n",
    "    return min(np.intersect1d(r_x[np.where(l_x>0)[0]],r_x[np.where(l_x<1)[0]]))\n",
    "    \n"
   ]
  },
  {
   "cell_type": "code",
   "execution_count": 117,
   "metadata": {
    "collapsed": true
   },
   "outputs": [],
   "source": [
    "def h(i, j, grid, radius):\n",
    "    return np.exp(-(np.linalg.norm(grid[i]-grid[j])/radius)**2)"
   ]
  },
  {
   "cell_type": "code",
   "execution_count": 89,
   "metadata": {
    "collapsed": true
   },
   "outputs": [],
   "source": [
    "x = np.array([2, 5]).astype(float)\n",
    "y = np.array([[1, 1], [10, 10], [12, 2]]).astype(float)"
   ]
  },
  {
   "cell_type": "code",
   "execution_count": 90,
   "metadata": {
    "collapsed": false
   },
   "outputs": [
    {
     "name": "stdout",
     "output_type": "stream",
     "text": [
      "num [ 45.  24.]\n",
      "den [ 17.  89.]\n",
      "[ 2.64705882  0.26966292]\n",
      "[-1118.12110727    84.0551698 ]\n",
      "[-1118.12110727    84.0551698 ]\n",
      "[ 84.0551698]\n",
      "[ 84.0551698]\n"
     ]
    },
    {
     "data": {
      "text/plain": [
       "84.055169801792687"
      ]
     },
     "execution_count": 90,
     "metadata": {},
     "output_type": "execute_result"
    }
   ],
   "source": [
    "segment_distance(x, y)"
   ]
  },
  {
   "cell_type": "code",
   "execution_count": 75,
   "metadata": {
    "collapsed": true
   },
   "outputs": [],
   "source": [
    "a = np.array([[1, 2], [2, 3]])\n",
    "b = np.array([[1, 3], [3, 5]])"
   ]
  },
  {
   "cell_type": "code",
   "execution_count": 45,
   "metadata": {
    "collapsed": false
   },
   "outputs": [
    {
     "data": {
      "text/plain": [
       "array([ 7, 21])"
      ]
     },
     "execution_count": 45,
     "metadata": {},
     "output_type": "execute_result"
    }
   ],
   "source": [
    "(a*b).sum(axis = 1)"
   ]
  },
  {
   "cell_type": "code",
   "execution_count": 91,
   "metadata": {
    "collapsed": true
   },
   "outputs": [],
   "source": [
    "X = np.random.random((100, 3))"
   ]
  },
  {
   "cell_type": "code",
   "execution_count": 92,
   "metadata": {
    "collapsed": true
   },
   "outputs": [],
   "source": [
    "Y = np.random.random((4, 3))"
   ]
  },
  {
   "cell_type": "code",
   "execution_count": 132,
   "metadata": {
    "collapsed": true
   },
   "outputs": [],
   "source": [
    "for counter in range(20):\n",
    "\n",
    "    C = {}\n",
    "\n",
    "    for i in range(Y.shape[0]) :\n",
    "        C[str(i)] = []\n",
    "    for i in range(X.shape[0]):\n",
    "        l = np.linalg.norm(X[i]-Y, axis = 1).argmin()\n",
    "        C[str(l)].append(i)\n",
    "\n",
    "    z = np.zeros((len(C), 3))\n",
    "    for i in range(z.shape[0]):\n",
    "        z[i] += np.sum(X[np.array(C[str(i)])], axis=0)\n",
    "\n",
    "\n",
    "    grid = np.array([[0,0],[0,1],[1,0],[1,1]])\n",
    "\n",
    "    W = np.zeros(len(C))\n",
    "    for i in range(len(C.values())):\n",
    "        terms=[]\n",
    "        for j in range(len(C.values())):\n",
    "            terms.append(len(C[str(j)]) * h(i, j, grid, 3))\n",
    "        W[i] = np.sum(terms)\n",
    "\n",
    "    Z = np.zeros((len(C), 3))\n",
    "    for i in range(len(C.values())):\n",
    "        terms = []\n",
    "        for j in range(len(C.values())):\n",
    "            terms.append(z[j]*h(i, j, grid, 3))\n",
    "        Z[i] = np.sum(terms, axis = 0)\n",
    "\n",
    "    Y = (Z.T/W).T\n",
    "\n"
   ]
  },
  {
   "cell_type": "code",
   "execution_count": 133,
   "metadata": {
    "collapsed": false
   },
   "outputs": [
    {
     "data": {
      "text/plain": [
       "array([[ 0.56938007,  0.53705568,  0.46845744],\n",
       "       [ 0.56685426,  0.53960046,  0.49544627],\n",
       "       [ 0.55927481,  0.51004097,  0.46321731],\n",
       "       [ 0.55662775,  0.51269671,  0.49036145]])"
      ]
     },
     "execution_count": 133,
     "metadata": {},
     "output_type": "execute_result"
    }
   ],
   "source": [
    "Y"
   ]
  },
  {
   "cell_type": "code",
   "execution_count": null,
   "metadata": {
    "collapsed": true
   },
   "outputs": [],
   "source": []
  }
 ],
 "metadata": {
  "kernelspec": {
   "display_name": "Python 2",
   "language": "python",
   "name": "python2"
  },
  "language_info": {
   "codemirror_mode": {
    "name": "ipython",
    "version": 2
   },
   "file_extension": ".py",
   "mimetype": "text/x-python",
   "name": "python",
   "nbconvert_exporter": "python",
   "pygments_lexer": "ipython2",
   "version": "2.7.11+"
  }
 },
 "nbformat": 4,
 "nbformat_minor": 0
}
