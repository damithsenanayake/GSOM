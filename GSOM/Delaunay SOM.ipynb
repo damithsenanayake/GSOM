{
 "cells": [
  {
   "cell_type": "code",
   "execution_count": 59,
   "metadata": {
    "collapsed": false
   },
   "outputs": [],
   "source": [
    "import numpy as np\n",
    "from scipy.spatial import Delaunay as Del\n",
    "import matplotlib.pyplot as plt\n",
    "import pandas as pd\n",
    "import sys\n",
    "from sklearn.decomposition import PCA\n",
    "from scipy.spatial import ConvexHull\n",
    "from sklearn.manifold import TSNE\n",
    "from mpl_toolkits.mplot3d import Axes3D\n",
    "import matplotlib.pyplot as plt"
   ]
  },
  {
   "cell_type": "code",
   "execution_count": 60,
   "metadata": {
    "collapsed": false
   },
   "outputs": [],
   "source": [
    "# grid = np.random.randn(200, 2)* 20\n",
    "grid = []\n",
    "for i in range(50):\n",
    "    for j in range(20):\n",
    "        grid.append([i, j])\n",
    "grid = np.array(grid)/5.0\n",
    "\n",
    "prev = np.zeros((grid.shape[0], grid.shape[0]))"
   ]
  },
  {
   "cell_type": "code",
   "execution_count": 61,
   "metadata": {
    "collapsed": true
   },
   "outputs": [],
   "source": [
    "def  triangulate(grid):\n",
    "    adj = np.zeros((grid.shape[0], grid.shape[0]))\n",
    "    tri = Del(grid)\n",
    "    chull = ConvexHull(grid).simplices\n",
    "#     print chull\n",
    "    for simplegrid in tri.simplices:\n",
    "        for vert in simplegrid:\n",
    "            for vert2 in simplegrid:\n",
    "                adj[vert][vert2] = 1\n",
    "#     for line in chull:\n",
    "#         adj[line[0]][line[1]]=0\n",
    "#         adj[line[1]][line[0]]=0\n",
    "    \n",
    "    return adj"
   ]
  },
  {
   "cell_type": "code",
   "execution_count": 62,
   "metadata": {
    "collapsed": false
   },
   "outputs": [],
   "source": [
    "# plt.triplot(grid.T[0], grid.T[1], tri.simplices.copy())\n",
    "# plt.plot(grid.T[0], grid.T[1], 'o')\n",
    "# for i in range(grid.shape[0]):\n",
    "#     plt.text(grid.T[0][i], grid.T[1][i], i)\n",
    "# plt.show()"
   ]
  },
  {
   "cell_type": "code",
   "execution_count": 63,
   "metadata": {
    "collapsed": false
   },
   "outputs": [],
   "source": [
    "def get_neighbors(point, grid, r):\n",
    "    \n",
    "    if grid.any():\n",
    "        G = triangulate(grid)  \n",
    "    else:\n",
    "        G = r\n",
    "    return np.where(G[point])[0], G\n",
    "    print np.where(np.linalg.norm(grid - grid[point], axis =1) < r) [0]\n",
    "#     return np.where(np.linalg.norm(grid - grid[point], axis = 1) < r) [0]"
   ]
  },
  {
   "cell_type": "code",
   "execution_count": 64,
   "metadata": {
    "collapsed": false
   },
   "outputs": [
    {
     "name": "stdout",
     "output_type": "stream",
     "text": [
      "(1000, 3)\n"
     ]
    }
   ],
   "source": [
    "X = np.array(pd.read_csv('/home/senanayaked/data/4C_2M.csv', header=None))\n",
    "X = np.append(X, np.random.randn(X.shape[0], 1), axis =1)#[:, :2]#np.random.random((100, 3))\n",
    "X += abs(X.min())\n",
    "X /= X.max()\n",
    "# X = np.random.random((200, 3))\n",
    "C = np.ones((X.shape[0], X.shape[1]))*X.mean()#np.random.random((X.shape[0], X.shape[1]))\n",
    "# grid = np.random.random((X.shape[0], 2))*20\n",
    "# grid = X[:, :2]\n",
    "# plt.scatter(grid.T[0], grid.T[1])\n",
    "# plt.show()\n",
    "print X.shape"
   ]
  },
  {
   "cell_type": "code",
   "execution_count": 65,
   "metadata": {
    "collapsed": false
   },
   "outputs": [
    {
     "name": "stdout",
     "output_type": "stream",
     "text": [
      " iteration 250"
     ]
    }
   ],
   "source": [
    "# try:\n",
    "\n",
    "ts = 0.0001\n",
    "fs = 0.0001\n",
    "\n",
    "\n",
    "for it in range(250):\n",
    "    sys.stdout.write('\\r iteration %s'% str(it+1))\n",
    "    for x in X[np.random.permutation(X.shape[0])]:\n",
    "        # find BMU    \n",
    "        bmu = np.argmin(np.linalg.norm(C -x, axis = 1))\n",
    "        p = grid\n",
    "        if ts*1.0 / (ts+fs) > 0.75:\n",
    "            p = np.zeros(grid.shape)\n",
    "        neighbors, G = get_neighbors(bmu, p, prev)\n",
    "        if np.all(G==prev):\n",
    "            ts += 1\n",
    "        else:\n",
    "            fs += 1\n",
    "\n",
    "        prev=G\n",
    "        \n",
    "        \n",
    "        \n",
    "#             print neighbors\n",
    "        dists = np.linalg.norm(grid[neighbors] - grid[bmu], axis = 1)\n",
    "        moving_amounts = 0.75*np.array([np.exp(-dists)]).T/dists.shape[0]\n",
    "#         print moving_amounts\n",
    "\n",
    "        C[neighbors] += 1*(x- C[neighbors]) * np.exp(-it/500) #* moving_amounts\n",
    "\n",
    "        # move neighbors closer\n",
    "\n",
    "\n",
    "        moving_directions = grid[bmu] - grid[neighbors]\n",
    "\n",
    "        grid[neighbors] += np.exp(-it/100)*moving_amounts * moving_directions\n",
    "\n",
    "\n",
    "        not_neighbors = np.setdiff1d(np.array(range(X.shape[0])), neighbors)\n",
    "\n",
    "        dists = np.linalg.norm(grid[not_neighbors] - grid[bmu], axis = 1)\n",
    "        moving_amounts = 0.75*np.array([np.exp(-dists)]).T//dists.shape[0]\n",
    "        moving_directions = grid[bmu] - grid[not_neighbors]\n",
    "        grid[not_neighbors] -= np.exp(-it/100)* moving_amounts * moving_directions\n",
    "# except Exception:\n",
    "#     print Exception.message\n",
    "#     pass\n",
    "#predict \n",
    "out = []\n",
    "for x in X:\n",
    "    bmu = np.argmin(np.linalg.norm(C -x, axis = 1))\n",
    "    out.append(grid[bmu])\n",
    "out = np.array(out)"
   ]
  },
  {
   "cell_type": "code",
   "execution_count": 66,
   "metadata": {
    "collapsed": false
   },
   "outputs": [],
   "source": [
    "plt.scatter(out.T[0], out.T[1], c=np.array(range(X.shape[0]))/250, edgecolors='none', s= 50, alpha=0.5)\n",
    "# plt.plot(out.T[0], out.T[1], c='grey', alpha=0.5)\n",
    "plt.show()"
   ]
  },
  {
   "cell_type": "code",
   "execution_count": 67,
   "metadata": {
    "collapsed": false
   },
   "outputs": [
    {
     "ename": "TypeError",
     "evalue": "scatter() got multiple values for keyword argument 's'",
     "output_type": "error",
     "traceback": [
      "\u001b[1;31m---------------------------------------------------------------------------\u001b[0m",
      "\u001b[1;31mTypeError\u001b[0m                                 Traceback (most recent call last)",
      "\u001b[1;32m<ipython-input-67-b9127cac8980>\u001b[0m in \u001b[0;36m<module>\u001b[1;34m()\u001b[0m\n\u001b[0;32m      1\u001b[0m \u001b[0mt\u001b[0m \u001b[1;33m=\u001b[0m \u001b[0mPCA\u001b[0m\u001b[1;33m(\u001b[0m\u001b[1;36m2\u001b[0m\u001b[1;33m)\u001b[0m\u001b[1;33m.\u001b[0m\u001b[0mfit_transform\u001b[0m\u001b[1;33m(\u001b[0m\u001b[0mX\u001b[0m\u001b[1;33m)\u001b[0m\u001b[1;33m\u001b[0m\u001b[0m\n\u001b[1;32m----> 2\u001b[1;33m \u001b[0mplt\u001b[0m\u001b[1;33m.\u001b[0m\u001b[0mscatter\u001b[0m\u001b[1;33m(\u001b[0m\u001b[0mout\u001b[0m\u001b[1;33m.\u001b[0m\u001b[0mT\u001b[0m\u001b[1;33m[\u001b[0m\u001b[1;36m0\u001b[0m\u001b[1;33m]\u001b[0m\u001b[1;33m,\u001b[0m \u001b[0mout\u001b[0m\u001b[1;33m.\u001b[0m\u001b[0mT\u001b[0m\u001b[1;33m[\u001b[0m\u001b[1;36m1\u001b[0m\u001b[1;33m]\u001b[0m\u001b[1;33m,\u001b[0m \u001b[0mplt\u001b[0m\u001b[1;33m.\u001b[0m\u001b[0mcm\u001b[0m\u001b[1;33m.\u001b[0m\u001b[0mSet1\u001b[0m\u001b[1;33m(\u001b[0m\u001b[0mnp\u001b[0m\u001b[1;33m.\u001b[0m\u001b[0marray\u001b[0m\u001b[1;33m(\u001b[0m\u001b[0mrange\u001b[0m\u001b[1;33m(\u001b[0m\u001b[0mX\u001b[0m\u001b[1;33m.\u001b[0m\u001b[0mshape\u001b[0m\u001b[1;33m[\u001b[0m\u001b[1;36m0\u001b[0m\u001b[1;33m]\u001b[0m\u001b[1;33m)\u001b[0m\u001b[1;33m)\u001b[0m\u001b[1;33m.\u001b[0m\u001b[0mastype\u001b[0m\u001b[1;33m(\u001b[0m\u001b[0mfloat\u001b[0m\u001b[1;33m)\u001b[0m\u001b[1;33m/\u001b[0m\u001b[0mX\u001b[0m\u001b[1;33m.\u001b[0m\u001b[0mshape\u001b[0m\u001b[1;33m[\u001b[0m\u001b[1;36m0\u001b[0m\u001b[1;33m]\u001b[0m\u001b[1;33m)\u001b[0m\u001b[1;33m,\u001b[0m \u001b[0medgecolors\u001b[0m\u001b[1;33m=\u001b[0m\u001b[1;34m'none'\u001b[0m\u001b[1;33m,\u001b[0m \u001b[0malpha\u001b[0m\u001b[1;33m=\u001b[0m\u001b[1;36m0.5\u001b[0m\u001b[1;33m,\u001b[0m\u001b[0ms\u001b[0m\u001b[1;33m=\u001b[0m\u001b[1;36m50\u001b[0m\u001b[1;33m)\u001b[0m\u001b[1;33m\u001b[0m\u001b[0m\n\u001b[0m\u001b[0;32m      3\u001b[0m \u001b[1;31m#plt.cm.Set1(np.array(range(X.shape[0])).astype(float)/X.shape[0]), edgecolors='none', alpha=0.5)\u001b[0m\u001b[1;33m\u001b[0m\u001b[1;33m\u001b[0m\u001b[0m\n\u001b[0;32m      4\u001b[0m \u001b[1;31m# plt.plot(t.T[0], t.T[1], c='grey', alpha=0.5)\u001b[0m\u001b[1;33m\u001b[0m\u001b[1;33m\u001b[0m\u001b[0m\n\u001b[0;32m      5\u001b[0m \u001b[0mplt\u001b[0m\u001b[1;33m.\u001b[0m\u001b[0mshow\u001b[0m\u001b[1;33m(\u001b[0m\u001b[1;33m)\u001b[0m\u001b[1;33m\u001b[0m\u001b[0m\n",
      "\u001b[1;31mTypeError\u001b[0m: scatter() got multiple values for keyword argument 's'"
     ]
    }
   ],
   "source": [
    "t = PCA(2).fit_transform(X)\n",
    "plt.scatter(out.T[0], out.T[1], plt.cm.Set1(np.array(range(X.shape[0])).astype(float)/X.shape[0]), edgecolors='none', alpha=0.5,s=50)\n",
    "#plt.cm.Set1(np.array(range(X.shape[0])).astype(float)/X.shape[0]), edgecolors='none', alpha=0.5)\n",
    "# plt.plot(t.T[0], t.T[1], c='grey', alpha=0.5)\n",
    "plt.show()"
   ]
  },
  {
   "cell_type": "code",
   "execution_count": null,
   "metadata": {
    "collapsed": false
   },
   "outputs": [],
   "source": [
    "fig = plt.figure()\n",
    "ax = fig.add_subplot(111, projection='3d')\n",
    "ax.scatter3D(X.T[0], X.T[1], X.T[2], c=plt.cm.Set1(np.array(range(X.shape[0])).astype(float)/X.shape[0]),s = 50, edgecolors='none', alpha=0.5)\n",
    "# plt.scatter(X, Y, Z, c = plt.cm.Set1(theta/200), edgecolors='none', alpha = 0.7, s = 50)\n",
    "plt.show()"
   ]
  },
  {
   "cell_type": "code",
   "execution_count": null,
   "metadata": {
    "collapsed": false
   },
   "outputs": [],
   "source": [
    "X.shape"
   ]
  },
  {
   "cell_type": "code",
   "execution_count": null,
   "metadata": {
    "collapsed": true
   },
   "outputs": [],
   "source": []
  }
 ],
 "metadata": {
  "kernelspec": {
   "display_name": "Python 2",
   "language": "python",
   "name": "python2"
  },
  "language_info": {
   "codemirror_mode": {
    "name": "ipython",
    "version": 2
   },
   "file_extension": ".py",
   "mimetype": "text/x-python",
   "name": "python",
   "nbconvert_exporter": "python",
   "pygments_lexer": "ipython2",
   "version": "2.7.11+"
  }
 },
 "nbformat": 4,
 "nbformat_minor": 0
}
