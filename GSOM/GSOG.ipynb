{
 "cells": [
  {
   "cell_type": "code",
   "execution_count": 13,
   "metadata": {
    "collapsed": true
   },
   "outputs": [],
   "source": [
    "import numpy as np\n",
    "import pandas as pd\n",
    "import matplotlib.pyplot as plt\n",
    "from scipy.spatial import Delaunay, ConvexHull"
   ]
  },
  {
   "cell_type": "code",
   "execution_count": 18,
   "metadata": {
    "collapsed": true
   },
   "outputs": [],
   "source": [
    "def  triangulate(grid):\n",
    "    adj = np.zeros((grid.shape[0], grid.shape[0]))\n",
    "    tri = Delaunay(grid)\n",
    "    chull = ConvexHull(grid).simplices\n",
    "#     print chull\n",
    "    for simplegrid in tri.simplices:\n",
    "        for vert in simplegrid:\n",
    "            for vert2 in simplegrid:\n",
    "                adj[vert][vert2] = 1\n",
    "#     for line in chull:\n",
    "#         adj[line[0]][line[1]]=0\n",
    "#         adj[line[1]][line[0]]=0\n",
    "    \n",
    "    return adj\n",
    "\n",
    "def get_neighbors(point, grid):\n",
    "    \n",
    "    G = triangulate(grid)   \n",
    "    return np.where(G[point])[0]\n",
    "#     print np.where(np.linalg.norm(grid - grid[point], axis =1) < r) [0]"
   ]
  },
  {
   "cell_type": "code",
   "execution_count": 2,
   "metadata": {
    "collapsed": true
   },
   "outputs": [],
   "source": [
    "X = np.array(pd.read_csv('/home/senanayaked/data/2D3C_RAW.csv', header = None))"
   ]
  },
  {
   "cell_type": "code",
   "execution_count": 16,
   "metadata": {
    "collapsed": false
   },
   "outputs": [],
   "source": [
    "\n"
   ]
  },
  {
   "cell_type": "code",
   "execution_count": 54,
   "metadata": {
    "collapsed": false
   },
   "outputs": [],
   "source": [
    "C = np.random.randn(100, X.shape[1])\n",
    "Y = np.random.random((100, 2))\n",
    "E = np.zeros(100)\n",
    "GT = -np.log(0.7)*X.shape[1]\n",
    "FD = 0.5\n",
    "for i in range(3):\n",
    "#### Training Phase ##### \n",
    "        for x in X:\n",
    "            bmu = np.argmin(np.linalg.norm(C-x, axis=1))\n",
    "            neis = get_neighbors(bmu, Y)\n",
    "            dists = np.linalg.norm(Y[neis]-Y[bmu], axis = 1)\n",
    "            E[bmu] += np.linalg.norm(C[bmu] - x)\n",
    "#             dists /= dists.max()\n",
    "            h = np.exp(-dists**2/2)\n",
    "            C[neis] += np.array([h]).T * (x - C[neis]) * 0.1\n",
    "        \n",
    "        chull = np.unique(ConvexHull(Y).simplices)[0]\n",
    "        \n",
    "        #### Growing Phase #####\n",
    "        for i in range(C.shape[0]):\n",
    "            if np.any(i == chull):\n",
    "                if E[i] > GT:\n",
    "                    neis = get_neighbors(i, Y)\n",
    "                    y_ns = Y[i] + (Y[i]-Y[neis])/np.array([np.linalg.norm(Y[i] - Y[neis])]*np.array([np.linalg.norm(C[i]-C[neis])]).T\n",
    "                    Y = np.append(Y, y_ns, axis=0)\n",
    "                    E = np.append(E, np.zeros(y_ns.shape[0]))\n",
    "                    C= np.append(C, 2*C[i] - C[neis], axis = 0)\n",
    "\n",
    "    "
   ]
  },
  {
   "cell_type": "code",
   "execution_count": 52,
   "metadata": {
    "collapsed": false
   },
   "outputs": [
    {
     "data": {
      "text/plain": [
       "array([[ 0.        ,  0.        ],\n",
       "       [ 0.08666215, -0.6924986 ],\n",
       "       [-0.74132305,  1.38574701],\n",
       "       [ 1.29574238, -0.7058422 ],\n",
       "       [ 0.11812206, -0.94388797],\n",
       "       [ 0.38723558, -1.44693891],\n",
       "       [-1.31204768,  4.42722825]])"
      ]
     },
     "execution_count": 52,
     "metadata": {},
     "output_type": "execute_result"
    }
   ],
   "source": [
    "(Y[0] - Y[neis]) * np.array([np.linalg.norm(C[0]-C[neis])]).T"
   ]
  },
  {
   "cell_type": "code",
   "execution_count": null,
   "metadata": {
    "collapsed": false
   },
   "outputs": [],
   "source": [
    "plt.scatter(Y.T[0][:100], Y.T[1][:100], c = 'blue', alpha=0.5)\n",
    "plt.scatter(Y.T[0][100:], Y.T[1][100:], c = 'red', alpha = 0.5)\n",
    "plt.show()"
   ]
  },
  {
   "cell_type": "code",
   "execution_count": 44,
   "metadata": {
    "collapsed": false
   },
   "outputs": [
    {
     "data": {
      "text/plain": [
       "array([ 9, 14, 16, 18, 22, 23, 24, 25], dtype=int32)"
      ]
     },
     "execution_count": 44,
     "metadata": {},
     "output_type": "execute_result"
    }
   ],
   "source": [
    "np.unique(chull)"
   ]
  },
  {
   "cell_type": "code",
   "execution_count": 46,
   "metadata": {
    "collapsed": false
   },
   "outputs": [
    {
     "ename": "TypeError",
     "evalue": "argument of type 'numpy.int32' is not iterable",
     "output_type": "error",
     "traceback": [
      "\u001b[1;31m---------------------------------------------------------------------------\u001b[0m",
      "\u001b[1;31mTypeError\u001b[0m                                 Traceback (most recent call last)",
      "\u001b[1;32m<ipython-input-46-61547a911592>\u001b[0m in \u001b[0;36m<module>\u001b[1;34m()\u001b[0m\n\u001b[1;32m----> 1\u001b[1;33m \u001b[1;36m9\u001b[0m \u001b[1;32min\u001b[0m \u001b[0mchull\u001b[0m\u001b[1;33m\u001b[0m\u001b[0m\n\u001b[0m",
      "\u001b[1;31mTypeError\u001b[0m: argument of type 'numpy.int32' is not iterable"
     ]
    }
   ],
   "source": [
    "9 in chull"
   ]
  },
  {
   "cell_type": "code",
   "execution_count": 47,
   "metadata": {
    "collapsed": false
   },
   "outputs": [
    {
     "data": {
      "text/plain": [
       "0"
      ]
     },
     "execution_count": 47,
     "metadata": {},
     "output_type": "execute_result"
    }
   ],
   "source": [
    "chull"
   ]
  },
  {
   "cell_type": "code",
   "execution_count": 50,
   "metadata": {
    "collapsed": false
   },
   "outputs": [
    {
     "data": {
      "text/plain": [
       "array([[ 0.02505033,  0.71021238],\n",
       "       [ 0.98969126,  0.50767966],\n",
       "       [ 0.74913656,  0.9504886 ],\n",
       "       [ 0.92949068,  0.45912271],\n",
       "       [ 0.02505033,  0.71021238],\n",
       "       [-0.97482686,  0.37841944],\n",
       "       [-1.22387451,  1.05693744],\n",
       "       [ 0.98969126,  0.50767966],\n",
       "       [ 1.05178601,  0.39337672],\n",
       "       [ 1.00523092,  0.52021375]])"
      ]
     },
     "execution_count": 50,
     "metadata": {},
     "output_type": "execute_result"
    }
   ],
   "source": [
    "Y"
   ]
  },
  {
   "cell_type": "code",
   "execution_count": null,
   "metadata": {
    "collapsed": true
   },
   "outputs": [],
   "source": []
  }
 ],
 "metadata": {
  "kernelspec": {
   "display_name": "Python 2",
   "language": "python",
   "name": "python2"
  },
  "language_info": {
   "codemirror_mode": {
    "name": "ipython",
    "version": 2
   },
   "file_extension": ".py",
   "mimetype": "text/x-python",
   "name": "python",
   "nbconvert_exporter": "python",
   "pygments_lexer": "ipython2",
   "version": "2.7.11+"
  }
 },
 "nbformat": 4,
 "nbformat_minor": 0
}
