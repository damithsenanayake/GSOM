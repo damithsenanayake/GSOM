{
 "cells": [
  {
   "cell_type": "code",
   "execution_count": 1,
   "metadata": {
    "collapsed": false
   },
   "outputs": [],
   "source": [
    "from kerasae import AutoEncoder"
   ]
  },
  {
   "cell_type": "code",
   "execution_count": 3,
   "metadata": {
    "collapsed": false
   },
   "outputs": [],
   "source": [
    "import numpy as np\n",
    "import pandas as pd\n",
    "\n"
   ]
  },
  {
   "cell_type": "code",
   "execution_count": 4,
   "metadata": {
    "collapsed": true
   },
   "outputs": [],
   "source": [
    "fo = pd.read_csv('../mnist_train.csv', header=None)"
   ]
  },
  {
   "cell_type": "code",
   "execution_count": 7,
   "metadata": {
    "collapsed": true
   },
   "outputs": [],
   "source": [
    "X = np.array(fo)[:, 1:]"
   ]
  },
  {
   "cell_type": "code",
   "execution_count": 70,
   "metadata": {
    "collapsed": true
   },
   "outputs": [],
   "source": [
    "ae = AutoEncoder(inp_size=784, hid_size=32)"
   ]
  },
  {
   "cell_type": "code",
   "execution_count": 71,
   "metadata": {
    "collapsed": false
   },
   "outputs": [],
   "source": [
    "fours = X[np.where(np.array(fo)[:, 0]==4)[0]]"
   ]
  },
  {
   "cell_type": "code",
   "execution_count": 72,
   "metadata": {
    "collapsed": false
   },
   "outputs": [
    {
     "data": {
      "text/plain": [
       "(5842, 784)"
      ]
     },
     "execution_count": 72,
     "metadata": {},
     "output_type": "execute_result"
    }
   ],
   "source": [
    "fours.shape"
   ]
  },
  {
   "cell_type": "code",
   "execution_count": null,
   "metadata": {
    "collapsed": false
   },
   "outputs": [],
   "source": [
    "preds = ae.fit_transform(X, lr = 1, epochs=100)"
   ]
  },
  {
   "cell_type": "code",
   "execution_count": 92,
   "metadata": {
    "collapsed": true
   },
   "outputs": [],
   "source": [
    "plt.imshow(np.reshape(preds[5], (28, 28)))\n",
    "plt.gray()\n",
    "plt.show()"
   ]
  },
  {
   "cell_type": "code",
   "execution_count": 93,
   "metadata": {
    "collapsed": true
   },
   "outputs": [],
   "source": [
    "avs = np.average(ae.reduce(fours), axis = 0)"
   ]
  },
  {
   "cell_type": "code",
   "execution_count": 94,
   "metadata": {
    "collapsed": false
   },
   "outputs": [
    {
     "data": {
      "text/plain": [
       "array([  2.49495754e+01,   1.03309889e+01,   2.86612377e+01,\n",
       "         5.23455477e+00,   2.92918110e+00,   3.16990552e+03,\n",
       "         1.76207855e+02,   1.07192902e+02,   4.92947998e+01,\n",
       "         3.06215942e+03,   4.04140413e-01,   3.25779510e+00,\n",
       "         9.95751321e-01,   3.59450714e+02,   3.40910034e+03,\n",
       "         1.19145654e+03,   1.84075975e+00,   1.28729284e-01,\n",
       "         2.20224097e-01,   2.00915813e+01,   2.63778027e+03,\n",
       "         5.19920766e-01,   1.95827100e+03,   1.03073740e+00,\n",
       "         1.10717712e+03,   3.76089597e+00,   3.78291245e+01,\n",
       "         2.44752350e+01,   2.96567321e-01,   4.13768997e+01,\n",
       "         4.85430957e+03,   1.01681480e+02], dtype=float32)"
      ]
     },
     "execution_count": 94,
     "metadata": {},
     "output_type": "execute_result"
    }
   ],
   "source": [
    "avs"
   ]
  },
  {
   "cell_type": "code",
   "execution_count": 95,
   "metadata": {
    "collapsed": true
   },
   "outputs": [],
   "source": [
    "import matplotlib.pyplot as plt"
   ]
  },
  {
   "cell_type": "code",
   "execution_count": 96,
   "metadata": {
    "collapsed": false
   },
   "outputs": [],
   "source": [
    "reb = ae.reduce(np.array([np.average(fours, axis = 0)]))"
   ]
  },
  {
   "cell_type": "code",
   "execution_count": 97,
   "metadata": {
    "collapsed": false
   },
   "outputs": [
    {
     "data": {
      "text/plain": [
       "array([[  2.36903429e+00,  -9.16421413e-07,  -7.45058060e-08,\n",
       "         -1.03563070e-06,  -1.25914812e-06,   3.16990698e+03,\n",
       "          1.66570526e+02,   9.26405487e+01,   1.51755695e+01,\n",
       "          3.06215796e+03,  -1.42306089e-06,   5.88595867e-07,\n",
       "         -9.76026058e-07,   3.55635834e+02,   3.40910400e+03,\n",
       "          1.19145654e+03,   1.26659870e-06,  -1.78068876e-06,\n",
       "          3.35276127e-07,   2.98023224e-08,   2.63777979e+03,\n",
       "          3.08454037e-06,   1.95826953e+03,  -1.98185444e-06,\n",
       "          1.10717749e+03,   8.41915607e-07,   2.23517418e-08,\n",
       "         -4.47034836e-08,   3.36766243e-06,   2.21877022e+01,\n",
       "          4.85431592e+03,   8.66891327e+01]], dtype=float32)"
      ]
     },
     "execution_count": 97,
     "metadata": {},
     "output_type": "execute_result"
    }
   ],
   "source": [
    "reb"
   ]
  },
  {
   "cell_type": "code",
   "execution_count": 98,
   "metadata": {
    "collapsed": false
   },
   "outputs": [],
   "source": [
    "plt.scatter(range(avs.shape[0]), avs, c='green')\n",
    "plt.scatter(range(avs.shape[0]), reb[0], c = 'orange')\n",
    "plt.show()"
   ]
  },
  {
   "cell_type": "code",
   "execution_count": 99,
   "metadata": {
    "collapsed": false
   },
   "outputs": [
    {
     "data": {
      "text/plain": [
       "<matplotlib.image.AxesImage at 0x7fe12ed35d10>"
      ]
     },
     "execution_count": 99,
     "metadata": {},
     "output_type": "execute_result"
    }
   ],
   "source": [
    "plt.imshow(np.reshape(ae.decoder.predict(np.array([avs])), (28, 28)))"
   ]
  },
  {
   "cell_type": "code",
   "execution_count": 100,
   "metadata": {
    "collapsed": true
   },
   "outputs": [],
   "source": [
    "plt.show()"
   ]
  },
  {
   "cell_type": "code",
   "execution_count": 101,
   "metadata": {
    "collapsed": false
   },
   "outputs": [
    {
     "data": {
      "text/plain": [
       "<matplotlib.image.AxesImage at 0x7fe12ec773d0>"
      ]
     },
     "execution_count": 101,
     "metadata": {},
     "output_type": "execute_result"
    }
   ],
   "source": [
    "plt.imshow(np.reshape(np.average(fours, axis = 0),(28, 28)))"
   ]
  },
  {
   "cell_type": "code",
   "execution_count": 102,
   "metadata": {
    "collapsed": true
   },
   "outputs": [],
   "source": [
    "plt.gray()\n",
    "plt.show()"
   ]
  },
  {
   "cell_type": "code",
   "execution_count": null,
   "metadata": {
    "collapsed": true
   },
   "outputs": [],
   "source": []
  }
 ],
 "metadata": {
  "kernelspec": {
   "display_name": "Python 2",
   "language": "python",
   "name": "python2"
  },
  "language_info": {
   "codemirror_mode": {
    "name": "ipython",
    "version": 2
   },
   "file_extension": ".py",
   "mimetype": "text/x-python",
   "name": "python",
   "nbconvert_exporter": "python",
   "pygments_lexer": "ipython2",
   "version": "2.7.11+"
  }
 },
 "nbformat": 4,
 "nbformat_minor": 0
}
