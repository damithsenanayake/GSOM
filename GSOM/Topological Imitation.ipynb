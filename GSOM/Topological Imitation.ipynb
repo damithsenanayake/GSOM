{
 "cells": [
  {
   "cell_type": "code",
   "execution_count": 6,
   "metadata": {
    "collapsed": false
   },
   "outputs": [],
   "source": [
    "import numpy as np\n",
    "import matplotlib.pyplot as plt\n",
    "import pandas as pd\n",
    "import sys"
   ]
  },
  {
   "cell_type": "code",
   "execution_count": 7,
   "metadata": {
    "collapsed": false
   },
   "outputs": [],
   "source": [
    "X = np.array(pd.read_csv('/home/senanayaked/data/spiral.csv', header=None))#np.array([[1,0,0], [0,1,0], [1.41, 1.41,0],[0.8,0.8,-0.8],[0.8, 0.8, 0.8]])\n",
    "c = plt.cm.Set1(np.array(range(X.shape[0])).astype(float)/X.shape[0])#np.array([[1, 0, 0], [0, 1, 0], [0, 0, 1],[0, 1, 1], [0, 0, 0]])\n",
    "Y = np.random.random((X.shape[0], 2))*X.size\n",
    "# plt.scatter(Y.T[0], Y.T[1], c = c, alpha = 0.5)\n",
    "# plt.show()"
   ]
  },
  {
   "cell_type": "code",
   "execution_count": 8,
   "metadata": {
    "collapsed": false
   },
   "outputs": [],
   "source": [
    "cm = np.array(['red', 'green', 'blue'])\n",
    "X = np.array(pd.read_csv('/home/senanayaked/data/2D3C_RAW.csv', header=None))#np.array([[1,0,0], [0,1,0], [1.41, 1.41,0],[0.8,0.8,-0.8],[0.8, 0.8, 0.8]])\n",
    "c = cm[np.array(range(X.shape[0]))/500]#np.array([[1, 0, 0], [0, 1, 0], [0, 0, 1],[0, 1, 1], [0, 0, 0]])\n",
    "Y = np.random.random((X.shape[0], 2))*X.size\n"
   ]
  },
  {
   "cell_type": "code",
   "execution_count": 9,
   "metadata": {
    "collapsed": false
   },
   "outputs": [],
   "source": [
    "inp = np.array(pd.read_csv('~/data/mnist_train.csv', header=None))[:2500]\n",
    "X = inp[:, 1:]\n",
    "L = inp[:, 0].astype(float)\n",
    "Y = np.random.random((X.shape[0], 2))*np.sqrt(X.size)\n",
    "C = plt.cm.Set1(L/10)"
   ]
  },
  {
   "cell_type": "code",
   "execution_count": 12,
   "metadata": {
    "collapsed": false
   },
   "outputs": [
    {
     "name": "stdout",
     "output_type": "stream",
     "text": [
      "iteration 9"
     ]
    },
    {
     "data": {
      "text/plain": [
       "0.57951709971120502"
      ]
     },
     "execution_count": 12,
     "metadata": {},
     "output_type": "execute_result"
    }
   ],
   "source": [
    "\n",
    "errors = []\n",
    "br = False\n",
    "for j in range(10):\n",
    "    sys.stdout.write('\\riteration %i'%(j))\n",
    "    for i in range(X.shape[0]):\n",
    "        d = np.linalg.norm(Y - Y[i], axis = 1)#[neis]\n",
    "        d/=d.sum()\n",
    "        neis = d.argsort()[:4]      \n",
    "        D = np.linalg.norm(X -X[i], axis = 1)\n",
    "        D = D[neis]\n",
    "        D/=D.sum()\n",
    "          \n",
    "#         neis = d.argsort()[:100]\n",
    "        d = d[neis]\n",
    "        \n",
    "      \n",
    "#         D = D[neis]\n",
    "\n",
    "        diffs = np.array([D - d]).T\n",
    "        Y[neis] -= 1*np.exp(-2*j/500)*diffs*(Y[i] - Y[neis])\n",
    "    diffs       \n",
    "    errors.append(np.linalg.norm(diffs))\n",
    "#     if np.linalg.norm(diffs) < 0.004:\n",
    "#         break\n",
    "#     if br:\n",
    "#         break\n",
    "np.linalg.norm(diffs)"
   ]
  },
  {
   "cell_type": "code",
   "execution_count": null,
   "metadata": {
    "collapsed": false
   },
   "outputs": [],
   "source": [
    "# plt.scatter(X.T[0], X.T[1], c = c, alpha = 0.7)\n",
    "# plt.show()\n",
    "# # Y = Y/(Y.max()-np.min(Y))\n",
    "plt.scatter(Y.T[0], Y.T[1], c = C, edgecolors = 'none', alpha = 0.5)\n",
    "plt.show()\n",
    "\n",
    "plt.plot(range(len(errors)), errors, c='red')\n",
    "plt.show()"
   ]
  },
  {
   "cell_type": "code",
   "execution_count": null,
   "metadata": {
    "collapsed": false
   },
   "outputs": [],
   "source": [
    "X.shape"
   ]
  },
  {
   "cell_type": "code",
   "execution_count": 201,
   "metadata": {
    "collapsed": false
   },
   "outputs": [
    {
     "data": {
      "text/plain": [
       "array([[-0.01217785,  0.02469549],\n",
       "       [-0.01814749, -0.01388979],\n",
       "       [ 0.01987078,  0.00988317],\n",
       "       [ 0.        ,  0.        ]])"
      ]
     },
     "execution_count": 201,
     "metadata": {},
     "output_type": "execute_result"
    }
   ],
   "source": [
    "(np.array([np.abs(d-D)]).T *(U))"
   ]
  },
  {
   "cell_type": "code",
   "execution_count": 12,
   "metadata": {
    "collapsed": false
   },
   "outputs": [
    {
     "data": {
      "text/plain": [
       "array([-0.29245558, -0.05622856, -0.26120147,  0.        ])"
      ]
     },
     "execution_count": 12,
     "metadata": {},
     "output_type": "execute_result"
    }
   ],
   "source": [
    "d-D"
   ]
  },
  {
   "cell_type": "code",
   "execution_count": 195,
   "metadata": {
    "collapsed": false
   },
   "outputs": [
    {
     "name": "stderr",
     "output_type": "stream",
     "text": [
      "/usr/local/lib/python2.7/dist-packages/ipykernel/__main__.py:1: RuntimeWarning: invalid value encountered in divide\n",
      "  if __name__ == '__main__':\n"
     ]
    },
    {
     "data": {
      "text/plain": [
       "array([[        nan,         nan],\n",
       "       [ 0.96412704, -0.26544124],\n",
       "       [-0.108855  , -0.99405764],\n",
       "       [ 0.25747381, -0.96628528]])"
      ]
     },
     "execution_count": 195,
     "metadata": {},
     "output_type": "execute_result"
    }
   ],
   "source": [
    "(Y[0]-Y)/np.array([np.linalg.norm(Y - Y[0], axis = 1)]).T"
   ]
  },
  {
   "cell_type": "code",
   "execution_count": 225,
   "metadata": {
    "collapsed": false
   },
   "outputs": [
    {
     "data": {
      "text/plain": [
       "array([[ 0.06533759, -0.07178333],\n",
       "       [-0.14614889, -0.07681887],\n",
       "       [ 0.21978114,  0.02284593],\n",
       "       [ 0.        ,  0.        ]])"
      ]
     },
     "execution_count": 225,
     "metadata": {},
     "output_type": "execute_result"
    }
   ],
   "source": [
    "U * props"
   ]
  },
  {
   "cell_type": "code",
   "execution_count": 226,
   "metadata": {
    "collapsed": false
   },
   "outputs": [
    {
     "data": {
      "text/plain": [
       "array([[ 0.67312406, -0.73952958],\n",
       "       [-0.88517171, -0.46526449],\n",
       "       [ 0.99464074,  0.10339146],\n",
       "       [ 0.        ,  0.        ]])"
      ]
     },
     "execution_count": 226,
     "metadata": {},
     "output_type": "execute_result"
    }
   ],
   "source": [
    "U"
   ]
  },
  {
   "cell_type": "code",
   "execution_count": 227,
   "metadata": {
    "collapsed": false
   },
   "outputs": [
    {
     "data": {
      "text/plain": [
       "array([[ 0.0970662 ],\n",
       "       [ 0.16510795],\n",
       "       [ 0.22096535],\n",
       "       [ 0.        ]])"
      ]
     },
     "execution_count": 227,
     "metadata": {},
     "output_type": "execute_result"
    }
   ],
   "source": [
    "props"
   ]
  },
  {
   "cell_type": "code",
   "execution_count": 228,
   "metadata": {
    "collapsed": false
   },
   "outputs": [
    {
     "data": {
      "text/plain": [
       "array([ 0.32828417,  0.32828417,  0.34343165,  0.        ])"
      ]
     },
     "execution_count": 228,
     "metadata": {},
     "output_type": "execute_result"
    }
   ],
   "source": [
    "D"
   ]
  },
  {
   "cell_type": "code",
   "execution_count": 229,
   "metadata": {
    "collapsed": false
   },
   "outputs": [
    {
     "data": {
      "text/plain": [
       "array([ 3.38206474,  1.98830016,  1.55423306,  0.        ])"
      ]
     },
     "execution_count": 229,
     "metadata": {},
     "output_type": "execute_result"
    }
   ],
   "source": [
    "d"
   ]
  },
  {
   "cell_type": "code",
   "execution_count": 230,
   "metadata": {
    "collapsed": false
   },
   "outputs": [
    {
     "name": "stderr",
     "output_type": "stream",
     "text": [
      "/usr/local/lib/python2.7/dist-packages/ipykernel/__main__.py:1: RuntimeWarning: invalid value encountered in divide\n",
      "  if __name__ == '__main__':\n"
     ]
    },
    {
     "data": {
      "text/plain": [
       "array([ 10.30224731,   6.05664338,   4.52559641,          nan])"
      ]
     },
     "execution_count": 230,
     "metadata": {},
     "output_type": "execute_result"
    }
   ],
   "source": [
    "d/D"
   ]
  },
  {
   "cell_type": "code",
   "execution_count": null,
   "metadata": {
    "collapsed": true
   },
   "outputs": [],
   "source": []
  }
 ],
 "metadata": {
  "kernelspec": {
   "display_name": "Python 2",
   "language": "python",
   "name": "python2"
  },
  "language_info": {
   "codemirror_mode": {
    "name": "ipython",
    "version": 2
   },
   "file_extension": ".py",
   "mimetype": "text/x-python",
   "name": "python",
   "nbconvert_exporter": "python",
   "pygments_lexer": "ipython2",
   "version": "2.7.12"
  }
 },
 "nbformat": 4,
 "nbformat_minor": 0
}
