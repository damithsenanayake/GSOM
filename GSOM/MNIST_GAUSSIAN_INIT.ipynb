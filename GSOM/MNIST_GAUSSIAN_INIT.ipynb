{
 "cells": [
  {
   "cell_type": "code",
   "execution_count": null,
   "metadata": {
    "collapsed": true
   },
   "outputs": [],
   "source": [
    "from AEGSOM import GSOM\n",
    "from sklearn.manifold import TSNE, Isomap, MDS\n",
    "from sklearn.decomposition import KernelPCA,FactorAnalysis\n",
    "import numpy as np\n",
    "import pandas as pd\n",
    "# import seaborn as sns\n",
    "from sklearn.preprocessing import normalize\n",
    "import matplotlib.pyplot as plt\n",
    "rng = np.random.RandomState(seed=1234)\n",
    "dat = rng.random_sample((100, 3))\n",
    "from AutoEncoder import AutoEncoder\n",
    "\n",
    "\n",
    "def vis_weights(node, v, h):\n",
    "    w1 = gsom.learners[node].w1.T\n",
    "    \n",
    "    visualizeW1(w1, v, h)\n",
    "    \n",
    "\n",
    "def visualizeW1(opt_W1, vis_patch_side, hid_patch_side):\n",
    "\n",
    "    \"\"\" Add the weights as a matrix of images \"\"\"\n",
    "\n",
    "    figure, axes = plt.subplots(nrows = hid_patch_side,\n",
    "                                              ncols = hid_patch_side)\n",
    "    index = 0\n",
    "\n",
    "    for axis in axes.flat:\n",
    "\n",
    "        \"\"\" Add row of weights as an image to the plot \"\"\"\n",
    "\n",
    "        image = axis.imshow(opt_W1[index, :].reshape(vis_patch_side, vis_patch_side),\n",
    "                            cmap = plt.cm.gray, interpolation = 'nearest')\n",
    "        axis.set_frame_on(False)\n",
    "        axis.set_axis_off()\n",
    "        index += 1\n",
    "\n",
    "    \"\"\" Show the obtained plot \"\"\"\n",
    "\n",
    "    plt.show()"
   ]
  },
  {
   "cell_type": "code",
   "execution_count": null,
   "metadata": {
    "collapsed": false
   },
   "outputs": [
    {
     "name": "stderr",
     "output_type": "stream",
     "text": [
      "AEGSOM.py:19: FutureWarning: comparison to `None` will result in an elementwise object comparison in the future.\n",
      "  if X != None:\n"
     ]
    },
    {
     "name": "stdout",
     "output_type": "stream",
     "text": [
      "\n",
      "batch 1\n",
      " epoch 1 / 1 :  100% : nodes - 4\n",
      "batch 2\n",
      " epoch 1 / 1 :  5% : nodes - 12"
     ]
    },
    {
     "name": "stderr",
     "output_type": "stream",
     "text": [
      "AEGSOM.py:231: VisibleDeprecationWarning: converting an array with ndim > 0 to an index will result in an error in the future\n",
      "  n2 = self.learners[self.grid.keys()[second_neighbours]]\n",
      "AutoEncoder.py:31: FutureWarning: comparison to `None` will result in an elementwise object comparison in the future.\n",
      "  if w1!= None:\n"
     ]
    },
    {
     "name": "stdout",
     "output_type": "stream",
     "text": [
      " epoch 1 / 1 :  100% : nodes - 12\n",
      "batch 3\n",
      " epoch 1 / 1 :  100% : nodes - 18\n",
      "batch 4\n",
      " epoch 1 / 1 :  100% : nodes - 32\n",
      "batch 5\n",
      " epoch 1 / 1 :  100% : nodes - 47\n",
      "batch 6\n",
      " epoch 1 / 1 :  100% : nodes - 62\n",
      "batch 7\n",
      " epoch 1 / 1 :  100% : nodes - 81\n",
      "batch 8\n",
      " epoch 1 / 1 :  100% : nodes - 105\n",
      "batch 9\n",
      " epoch 1 / 1 :  100% : nodes - 131\n",
      "batch 10\n",
      " epoch 1 / 1 :  100% : nodes - 162\n",
      "batch 11\n",
      " epoch 1 / 1 :  100% : nodes - 195\n",
      "batch 12\n",
      " epoch 1 / 1 :  100% : nodes - 231\n",
      "batch 13\n",
      " epoch 1 / 1 :  100% : nodes - 269\n",
      "batch 14\n",
      " epoch 1 / 1 :  100% : nodes - 317\n",
      "batch 15\n",
      " epoch 1 / 1 :  100% : nodes - 359\n",
      "batch 16\n"
     ]
    },
    {
     "name": "stderr",
     "output_type": "stream",
     "text": [
      "AEGSOM.py:221: VisibleDeprecationWarning: converting an array with ndim > 0 to an index will result in an error in the future\n",
      "  0]]]]\n"
     ]
    },
    {
     "name": "stdout",
     "output_type": "stream",
     "text": [
      " epoch 1 / 1 :  100% : nodes - 411\n",
      "batch 17\n",
      " epoch 1 / 1 :  100% : nodes - 465\n",
      "batch 18\n",
      " epoch 1 / 1 :  100% : nodes - 524\n",
      "batch 19\n",
      " epoch 1 / 1 :  100% : nodes - 585\n",
      "batch 20\n",
      " epoch 1 / 1 :  100% : nodes - 652\n",
      "batch 21\n",
      " epoch 1 / 1 :  100% : nodes - 718\n",
      "batch 22\n",
      " epoch 1 / 1 :  100% : nodes - 791\n",
      "batch 23\n",
      " epoch 1 / 1 :  100% : nodes - 868\n",
      "batch 24\n",
      " epoch 1 / 1 :  100% : nodes - 944\n",
      "batch 25\n",
      " epoch 1 / 1 :  100% : nodes - 1030\n",
      "batch 26\n",
      " epoch 1 / 1 :  100% : nodes - 1115\n",
      "batch 27\n",
      " epoch 1 / 1 :  100% : nodes - 1202\n",
      "batch 28\n",
      " epoch 1 / 1 :  100% : nodes - 1290\n",
      "batch 29\n",
      " epoch 1 / 1 :  100% : nodes - 1387\n",
      "batch 30\n",
      " epoch 1 / 1 :  100% : nodes - 1484\n",
      "batch 31\n",
      " epoch 1 / 1 :  100% : nodes - 1580\n",
      "batch 32\n",
      " epoch 1 / 1 :  99% : nodes - 1690"
     ]
    }
   ],
   "source": [
    "fi = pd.read_csv('../mnist_train.csv', header=None)\n",
    "test = pd.read_csv('../mnist_test.csv', header=None)\n",
    "dat =np.array(fi)[:, 1:]/255.0\n",
    "labels = np.array(fi)[:, 0]\n",
    "# reductor = AutoEncoder(hid_size=100)\n",
    "# X = reductor.reduce(dat)\n",
    "\n",
    "gsom = GSOM(dims=784, hid = 2, sf = 0.9, fd = 0.9, max_nodes = 2500, min_nodes = 10, radius=20, scale = 1, nei=True, X=dat, gaussian=True, lr = 1)\n",
    "\n",
    "\n",
    "for i in range(100):\n",
    "    print '\\nbatch '+ str(i+1)\n",
    "    prune = False\n",
    "    if i %4 ==1:\n",
    "        prune = True\n",
    "    gsom.train_batch(dat[i*500:(i+1)*500], lr = 0,  iterations=1, prune=True)#lr=0.01*np.exp(-i/200), iterations=100)\n",
    "    "
   ]
  },
  {
   "cell_type": "code",
   "execution_count": null,
   "metadata": {
    "collapsed": true
   },
   "outputs": [],
   "source": [
    "grid, hits = gsom.predict((dat[:250]))\n",
    "x, y = grid.T\n",
    "colors = dat\n",
    "nodes = np.unique(np.array(hits))"
   ]
  },
  {
   "cell_type": "code",
   "execution_count": null,
   "metadata": {
    "collapsed": false
   },
   "outputs": [],
   "source": [
    "batches = []\n",
    "\n",
    "# for n in nodes:\n",
    "#     ninds = np.where(np.array(hits)==n)[0]\n",
    "#     batches.append(dat[ninds])\n",
    "\n",
    "plt.scatter(x, y, s=1, c = 'white', edgecolors='none')\n",
    "\n",
    "for i, j, t in zip(x, y, labels):\n",
    "    plt.text(i, j, t, color = plt.cm.Set1(t/10.0), fontsize = 12)\n",
    "plt.show()\n",
    "\n"
   ]
  },
  {
   "cell_type": "code",
   "execution_count": null,
   "metadata": {
    "collapsed": false
   },
   "outputs": [],
   "source": [
    "map = gsom.grid.values()\n",
    "hits = gsom.hits.values()\n",
    "\n",
    "x, y = np.array(map).T\n",
    "\n",
    "for i, j, t in zip(x,y,hits):\n",
    "    plt.text(i, j, t, color = 'green', fontsize = 12)\n",
    "\n",
    "plt.show()"
   ]
  },
  {
   "cell_type": "code",
   "execution_count": null,
   "metadata": {
    "collapsed": false
   },
   "outputs": [],
   "source": [
    "w1 = gsom.learners[str([-3,0])].w1\n",
    "\n",
    "#visualizeW1(w1.T, 28, 1)\n",
    "\n",
    "plt.imshow(w1.T[0].reshape(28, 28))\n",
    "plt.gray()\n",
    "plt.show()"
   ]
  },
  {
   "cell_type": "markdown",
   "metadata": {
    "collapsed": true
   },
   "source": []
  }
 ],
 "metadata": {
  "kernelspec": {
   "display_name": "Python 2",
   "language": "python",
   "name": "python2"
  },
  "language_info": {
   "codemirror_mode": {
    "name": "ipython",
    "version": 2
   },
   "file_extension": ".py",
   "mimetype": "text/x-python",
   "name": "python",
   "nbconvert_exporter": "python",
   "pygments_lexer": "ipython2",
   "version": "2.7.11+"
  }
 },
 "nbformat": 4,
 "nbformat_minor": 0
}
