{
 "cells": [
  {
   "cell_type": "code",
   "execution_count": 1,
   "metadata": {
    "collapsed": true
   },
   "outputs": [],
   "source": [
    "import numpy as np\n",
    "import pandas as pd\n",
    "import matplotlib.pyplot as plt\n",
    "from AEGSOM import GSOM\n",
    "from sklearn.manifold import TSNE\n",
    "from sklearn.decomposition import PCA"
   ]
  },
  {
   "cell_type": "code",
   "execution_count": 2,
   "metadata": {
    "collapsed": true
   },
   "outputs": [],
   "source": [
    "def visualizeW1(opt_W1, vx, vy, hx, hy):\n",
    "\n",
    "    \"\"\" Add the weights as a matrix of images \"\"\"\n",
    "\n",
    "    figure, axes = plt.subplots(nrows = hx,\n",
    "                                              ncols = hy)\n",
    "    index = 0\n",
    "\n",
    "    for axis in axes.flat:\n",
    "\n",
    "        \"\"\" Add row of weights as an image to the plot \"\"\"\n",
    "\n",
    "        image = axis.imshow(np.repeat(opt_W1[index, :], 100).reshape(vx, 100*vy),\n",
    "                             interpolation = 'nearest')\n",
    "        axis.set_frame_on(False)\n",
    "        axis.set_axis_off()\n",
    "        index += 1\n",
    "\n",
    "    \"\"\" Show the obtained plot \"\"\"\n",
    "\n",
    "    plt.show()"
   ]
  },
  {
   "cell_type": "code",
   "execution_count": 3,
   "metadata": {
    "collapsed": false
   },
   "outputs": [],
   "source": [
    "f_read = pd.read_csv('/home/senanayaked/data/sub_cnt_fl_T.csv')"
   ]
  },
  {
   "cell_type": "code",
   "execution_count": 4,
   "metadata": {
    "collapsed": false
   },
   "outputs": [],
   "source": [
    "data = np.array(f_read)\n"
   ]
  },
  {
   "cell_type": "code",
   "execution_count": 5,
   "metadata": {
    "collapsed": true
   },
   "outputs": [],
   "source": [
    "X = data[:, 1:].astype(float)\n",
    "X /= X.max()"
   ]
  },
  {
   "cell_type": "code",
   "execution_count": 6,
   "metadata": {
    "collapsed": false
   },
   "outputs": [
    {
     "name": "stderr",
     "output_type": "stream",
     "text": [
      "AEGSOM.py:19: FutureWarning: comparison to `None` will result in an elementwise object comparison in the future.\n",
      "  if X != None:\n"
     ]
    }
   ],
   "source": [
    "gsom = GSOM(dims=X.shape[1], hid=2, min_nodes=10, max_nodes=1001, X=X, gaussian = True, nei = True, sf = 0.9, fd = 0.99,radius=30 )"
   ]
  },
  {
   "cell_type": "code",
   "execution_count": 8,
   "metadata": {
    "collapsed": false,
    "scrolled": false
   },
   "outputs": [
    {
     "name": "stdout",
     "output_type": "stream",
     "text": [
      "\n",
      "batch 1\n",
      " epoch 1 / 1 :  100% : nodes - 230\n",
      "batch 2\n",
      " epoch 1 / 1 :  100% : nodes - 284\n",
      "batch 3\n",
      " epoch 1 / 1 :  100% : nodes - 305\n",
      "batch 4\n",
      " epoch 1 / 1 :  100% : nodes - 313\n",
      "batch 5\n",
      " epoch 1 / 1 :  100% : nodes - 313\n",
      "batch 6\n",
      " epoch 1 / 1 :  100% : nodes - 325\n",
      "batch 7\n",
      " epoch 1 / 1 :  100% : nodes - 325\n",
      "batch 8\n",
      " epoch 1 / 1 :  100% : nodes - 333\n",
      "batch 9\n",
      " epoch 1 / 1 :  100% : nodes - 338\n",
      "batch 10\n",
      " epoch 1 / 1 :  100% : nodes - 350\n",
      "batch 11\n",
      " epoch 1 / 1 :  100% : nodes - 356\n",
      "batch 12\n",
      " epoch 1 / 1 :  100% : nodes - 362\n",
      "batch 13\n",
      " epoch 1 / 1 :  100% : nodes - 362\n",
      "batch 14\n",
      " epoch 1 / 1 :  100% : nodes - 362\n",
      "batch 15\n",
      " epoch 1 / 1 :  100% : nodes - 365\n",
      "batch 16\n",
      " epoch 1 / 1 :  100% : nodes - 365\n",
      "batch 17\n",
      " epoch 1 / 1 :  100% : nodes - 365\n",
      "batch 18\n",
      " epoch 1 / 1 :  100% : nodes - 368\n",
      "batch 19\n",
      " epoch 1 / 1 :  100% : nodes - 368\n",
      "batch 20\n",
      " epoch 1 / 1 :  100% : nodes - 368\n",
      "batch 21\n",
      " epoch 1 / 1 :  100% : nodes - 369\n",
      "batch 22\n",
      " epoch 1 / 1 :  100% : nodes - 371\n",
      "batch 23\n",
      " epoch 1 / 1 :  100% : nodes - 371\n",
      "batch 24\n",
      " epoch 1 / 1 :  100% : nodes - 381\n",
      "batch 25\n",
      " epoch 1 / 1 :  100% : nodes - 384\n",
      "batch 26\n",
      " epoch 1 / 1 :  100% : nodes - 390\n",
      "batch 27\n",
      " epoch 1 / 1 :  100% : nodes - 394\n",
      "batch 28\n",
      " epoch 1 / 1 :  100% : nodes - 394\n",
      "batch 29\n",
      " epoch 1 / 1 :  100% : nodes - 398\n",
      "batch 30\n",
      " epoch 1 / 1 :  100% : nodes - 400\n",
      "batch 31\n",
      " epoch 1 / 1 :  100% : nodes - 402\n",
      "batch 32\n",
      " epoch 1 / 1 :  100% : nodes - 410\n",
      "batch 33\n",
      " epoch 1 / 1 :  100% : nodes - 415\n",
      "batch 34\n",
      " epoch 1 / 1 :  100% : nodes - 418\n",
      "batch 35\n",
      " epoch 1 / 1 :  100% : nodes - 423\n",
      "batch 36\n",
      " epoch 1 / 1 :  100% : nodes - 430\n",
      "batch 37\n",
      " epoch 1 / 1 :  100% : nodes - 436\n",
      "batch 38\n",
      " epoch 1 / 1 :  100% : nodes - 438\n",
      "batch 39\n",
      " epoch 1 / 1 :  100% : nodes - 445\n",
      "batch 40\n",
      " epoch 1 / 1 :  100% : nodes - 452\n",
      "batch 41\n",
      " epoch 1 / 1 :  100% : nodes - 452\n",
      "batch 42\n",
      " epoch 1 / 1 :  100% : nodes - 459\n",
      "batch 43\n",
      " epoch 1 / 1 :  100% : nodes - 460\n",
      "batch 44\n",
      " epoch 1 / 1 :  100% : nodes - 461\n",
      "batch 45\n",
      " epoch 1 / 1 :  100% : nodes - 461\n",
      "batch 46\n",
      " epoch 1 / 1 :  100% : nodes - 461\n",
      "batch 47\n",
      " epoch 1 / 1 :  100% : nodes - 461\n",
      "batch 48\n",
      " epoch 1 / 1 :  100% : nodes - 467\n",
      "batch 49\n",
      " epoch 1 / 1 :  100% : nodes - 467\n",
      "batch 50\n",
      " epoch 1 / 1 :  100% : nodes - 467\n",
      "batch 51\n",
      " epoch 1 / 1 :  100% : nodes - 467\n",
      "batch 52\n",
      " epoch 1 / 1 :  100% : nodes - 470\n",
      "batch 53\n",
      " epoch 1 / 1 :  100% : nodes - 470\n",
      "batch 54\n",
      " epoch 1 / 1 :  100% : nodes - 470\n",
      "batch 55\n",
      " epoch 1 / 1 :  100% : nodes - 470\n",
      "batch 56\n",
      " epoch 1 / 1 :  100% : nodes - 470\n",
      "batch 57\n",
      " epoch 1 / 1 :  100% : nodes - 470\n",
      "batch 58\n",
      " epoch 1 / 1 :  100% : nodes - 471\n",
      "batch 59\n",
      " epoch 1 / 1 :  100% : nodes - 474\n",
      "batch 60\n",
      " epoch 1 / 1 :  100% : nodes - 474\n",
      "batch 61\n",
      " epoch 1 / 1 :  100% : nodes - 474\n",
      "batch 62\n",
      " epoch 1 / 1 :  100% : nodes - 474\n",
      "batch 63\n",
      " epoch 1 / 1 :  100% : nodes - 474\n",
      "batch 64\n",
      " epoch 1 / 1 :  100% : nodes - 475\n",
      "batch 65\n",
      " epoch 1 / 1 :  100% : nodes - 476\n",
      "batch 66\n",
      " epoch 1 / 1 :  100% : nodes - 479\n",
      "batch 67\n",
      " epoch 1 / 1 :  100% : nodes - 479\n",
      "batch 68\n",
      " epoch 1 / 1 :  100% : nodes - 482\n",
      "batch 69\n",
      " epoch 1 / 1 :  100% : nodes - 484\n",
      "batch 70\n",
      " epoch 1 / 1 :  100% : nodes - 487\n",
      "batch 71\n",
      " epoch 1 / 1 :  100% : nodes - 490\n",
      "batch 72\n",
      " epoch 1 / 1 :  100% : nodes - 490\n",
      "batch 73\n",
      " epoch 1 / 1 :  100% : nodes - 490\n",
      "batch 74\n",
      " epoch 1 / 1 :  100% : nodes - 490\n",
      "batch 75\n",
      " epoch 1 / 1 :  100% : nodes - 491\n",
      "batch 76\n",
      " epoch 1 / 1 :  100% : nodes - 491\n",
      "batch 77\n",
      " epoch 1 / 1 :  100% : nodes - 492\n",
      "batch 78\n",
      " epoch 1 / 1 :  100% : nodes - 492\n",
      "batch 79\n",
      " epoch 1 / 1 :  100% : nodes - 492\n",
      "batch 80\n",
      " epoch 1 / 1 :  100% : nodes - 492\n",
      "batch 81\n",
      " epoch 1 / 1 :  100% : nodes - 493\n",
      "batch 82\n",
      " epoch 1 / 1 :  100% : nodes - 495\n",
      "batch 83\n",
      " epoch 1 / 1 :  100% : nodes - 500\n",
      "batch 84\n",
      " epoch 1 / 1 :  100% : nodes - 500\n",
      "batch 85\n",
      " epoch 1 / 1 :  100% : nodes - 500\n",
      "batch 86\n",
      " epoch 1 / 1 :  100% : nodes - 501\n",
      "batch 87\n",
      " epoch 1 / 1 :  100% : nodes - 501\n",
      "batch 88\n",
      " epoch 1 / 1 :  100% : nodes - 503\n",
      "batch 89\n",
      " epoch 1 / 1 :  100% : nodes - 506\n",
      "batch 90\n",
      " epoch 1 / 1 :  100% : nodes - 510\n",
      "batch 91\n",
      " epoch 1 / 1 :  100% : nodes - 510\n",
      "batch 92\n",
      " epoch 1 / 1 :  100% : nodes - 516\n",
      "batch 93\n",
      " epoch 1 / 1 :  100% : nodes - 523\n",
      "batch 94\n",
      " epoch 1 / 1 :  100% : nodes - 525\n",
      "batch 95\n",
      " epoch 1 / 1 :  100% : nodes - 528\n",
      "batch 96\n",
      " epoch 1 / 1 :  100% : nodes - 529\n",
      "batch 97\n",
      " epoch 1 / 1 :  100% : nodes - 533\n",
      "batch 98\n",
      " epoch 1 / 1 :  100% : nodes - 535\n",
      "batch 99\n",
      " epoch 1 / 1 :  100% : nodes - 538\n",
      "batch 100\n",
      " epoch 1 / 1 :  100% : nodes - 541"
     ]
    }
   ],
   "source": [
    "for i in range(100):\n",
    "    print '\\nbatch '+ str(i+1)\n",
    "    prune = False\n",
    "    gsom.train_batch(X, lr = np.exp(-i/ 30),  iterations=1, prune = False)#lr=0.01*np.exp(-i/200), iterations=100)\n",
    "    "
   ]
  },
  {
   "cell_type": "code",
   "execution_count": 55,
   "metadata": {
    "collapsed": false
   },
   "outputs": [],
   "source": [
    "grid, hits = gsom.predict(X)\n",
    "x, y = grid.T\n",
    "plt.scatter(x, y, edgecolors='none', c = 'white')\n",
    "for i, j, t in zip(x, y, range(X.shape[0])):\n",
    "    plt.text(i+np.random.randn(1)*0.25, j+np.random.randn(1)*0.25, t, color = plt.cm.Set1(t/200.0), fontsize = 12)\n",
    "\n",
    "plt.show()"
   ]
  },
  {
   "cell_type": "code",
   "execution_count": 48,
   "metadata": {
    "collapsed": false
   },
   "outputs": [],
   "source": [
    "visualizeW1(gsom.learners[str([-1,13])].w1.T,vx=787,vy=1, hx=1, hy = 2)"
   ]
  },
  {
   "cell_type": "code",
   "execution_count": 39,
   "metadata": {
    "collapsed": false
   },
   "outputs": [
    {
     "data": {
      "text/plain": [
       "'UBE4A'"
      ]
     },
     "execution_count": 39,
     "metadata": {},
     "output_type": "execute_result"
    }
   ],
   "source": [
    "f_read.columns[-377]"
   ]
  },
  {
   "cell_type": "code",
   "execution_count": 54,
   "metadata": {
    "collapsed": true
   },
   "outputs": [],
   "source": [
    "plt.imshow(np.repeat(X[0],100).reshape(787, 100))\n",
    "plt.show()"
   ]
  },
  {
   "cell_type": "code",
   "execution_count": null,
   "metadata": {
    "collapsed": false
   },
   "outputs": [],
   "source": [
    "x, y = PCA(2).fit_transform(X).T\n",
    "plt.scatter(x, y, edgecolors='none', c = 'white')\n",
    "for i, j, t in zip(x, y, range(X.shape[0])):\n",
    "    plt.text(i+np.random.randn(1)*0.25, j+np.random.randn(1)*0.25, t, color = plt.cm.Set1(t/200.0), fontsize = 12)\n",
    "\n",
    "plt.show()"
   ]
  },
  {
   "cell_type": "code",
   "execution_count": null,
   "metadata": {
    "collapsed": true
   },
   "outputs": [],
   "source": []
  }
 ],
 "metadata": {
  "kernelspec": {
   "display_name": "Python 2",
   "language": "python",
   "name": "python2"
  },
  "language_info": {
   "codemirror_mode": {
    "name": "ipython",
    "version": 2
   },
   "file_extension": ".py",
   "mimetype": "text/x-python",
   "name": "python",
   "nbconvert_exporter": "python",
   "pygments_lexer": "ipython2",
   "version": "2.7.11+"
  }
 },
 "nbformat": 4,
 "nbformat_minor": 0
}
